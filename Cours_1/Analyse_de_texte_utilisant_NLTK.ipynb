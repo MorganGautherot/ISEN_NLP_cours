{
  "nbformat": 4,
  "nbformat_minor": 0,
  "metadata": {
    "colab": {
      "name": "Analyse de texte utilisant NLTK.ipynb",
      "provenance": [],
      "collapsed_sections": []
    },
    "kernelspec": {
      "name": "python3",
      "display_name": "Python 3"
    }
  },
  "cells": [
    {
      "cell_type": "markdown",
      "metadata": {
        "id": "HwrqC1Fk5-WZ"
      },
      "source": [
        "# Analyse de texte utilisant NLTK"
      ]
    },
    {
      "cell_type": "code",
      "metadata": {
        "colab": {
          "base_uri": "https://localhost:8080/"
        },
        "id": "wfBlnB6S5l2V",
        "outputId": "b761f1f6-19d2-4b91-8864-2f6ea98d6fdc"
      },
      "source": [
        "from nltk.tokenize import word_tokenize\n",
        "from nltk.text import Text\n",
        "import nltk"
      ],
      "execution_count": 2,
      "outputs": [
        {
          "output_type": "stream",
          "text": [
            "[nltk_data] Downloading package punkt to /root/nltk_data...\n",
            "[nltk_data]   Unzipping tokenizers/punkt.zip.\n"
          ],
          "name": "stdout"
        },
        {
          "output_type": "execute_result",
          "data": {
            "text/plain": [
              "True"
            ]
          },
          "metadata": {
            "tags": []
          },
          "execution_count": 2
        }
      ]
    },
    {
      "cell_type": "code",
      "metadata": {
        "colab": {
          "base_uri": "https://localhost:8080/"
        },
        "id": "_lyPdA7sDm0U",
        "outputId": "4a3b694a-7130-4ebc-c3b9-8cad42e50512"
      },
      "source": [
        "nltk.download('punkt')\n",
        "nltk.download('stopwords')\n",
        "nltk.download('wordnet')\n",
        "nltk.download('averaged_perceptron_tagger')"
      ],
      "execution_count": 82,
      "outputs": [
        {
          "output_type": "stream",
          "text": [
            "[nltk_data] Downloading package punkt to /root/nltk_data...\n",
            "[nltk_data]   Package punkt is already up-to-date!\n",
            "[nltk_data] Downloading package stopwords to /root/nltk_data...\n",
            "[nltk_data]   Package stopwords is already up-to-date!\n",
            "[nltk_data] Downloading package wordnet to /root/nltk_data...\n",
            "[nltk_data]   Package wordnet is already up-to-date!\n",
            "[nltk_data] Downloading package averaged_perceptron_tagger to\n",
            "[nltk_data]     /root/nltk_data...\n",
            "[nltk_data]   Unzipping taggers/averaged_perceptron_tagger.zip.\n"
          ],
          "name": "stdout"
        },
        {
          "output_type": "execute_result",
          "data": {
            "text/plain": [
              "True"
            ]
          },
          "metadata": {
            "tags": []
          },
          "execution_count": 82
        }
      ]
    },
    {
      "cell_type": "markdown",
      "metadata": {
        "id": "0pbLZHOK6sH-"
      },
      "source": [
        "# La tokenization"
      ]
    },
    {
      "cell_type": "markdown",
      "metadata": {
        "id": "GCg-nz4m637N"
      },
      "source": [
        "Le but est de transformer une phrase en vecteur de mots. "
      ]
    },
    {
      "cell_type": "code",
      "metadata": {
        "colab": {
          "base_uri": "https://localhost:8080/"
        },
        "id": "owA-myd_5o30",
        "outputId": "c484081c-d8c4-4f9e-846b-465577d495fb"
      },
      "source": [
        "my_string = \"Je suis ici pour étudier le Natural Language Processing, j'adore ça\"\n",
        "tokens = word_tokenize(my_string)\n",
        "tokens"
      ],
      "execution_count": 37,
      "outputs": [
        {
          "output_type": "execute_result",
          "data": {
            "text/plain": [
              "['Je',\n",
              " 'suis',\n",
              " 'ici',\n",
              " 'pour',\n",
              " 'étudier',\n",
              " 'le',\n",
              " 'Natural',\n",
              " 'Language',\n",
              " 'Processing',\n",
              " ',',\n",
              " \"j'adore\",\n",
              " 'ça']"
            ]
          },
          "metadata": {
            "tags": []
          },
          "execution_count": 37
        }
      ]
    },
    {
      "cell_type": "markdown",
      "metadata": {
        "id": "KF1k_V3tBa5_"
      },
      "source": [
        "On peut voir que la tokenization n'est pas parfaite \"j'adore\" est considéré comme une seul mot. \n",
        "on va utiliser les expressions régulières pour ne récupérer que les caractères alphanumériques de chaque phrase."
      ]
    },
    {
      "cell_type": "code",
      "metadata": {
        "colab": {
          "base_uri": "https://localhost:8080/"
        },
        "id": "51bj2aWe62Nd",
        "outputId": "8a8bc6f8-4ec7-4e19-daa1-0d3cf316005e"
      },
      "source": [
        "tokenizer = nltk.RegexpTokenizer(r'\\w+')\n",
        "tokens = tokenizer.tokenize(my_string)\n",
        "tokens"
      ],
      "execution_count": 14,
      "outputs": [
        {
          "output_type": "execute_result",
          "data": {
            "text/plain": [
              "['Je',\n",
              " 'suis',\n",
              " 'ici',\n",
              " 'pour',\n",
              " 'étudier',\n",
              " 'le',\n",
              " 'Natural',\n",
              " 'Language',\n",
              " 'Processing',\n",
              " 'j',\n",
              " 'adore',\n",
              " 'ça']"
            ]
          },
          "metadata": {
            "tags": []
          },
          "execution_count": 14
        }
      ]
    },
    {
      "cell_type": "markdown",
      "metadata": {
        "id": "91B9paOwBwG0"
      },
      "source": [
        "On peut voir que l'on a toujours des majuscules ce qui peut être un problème lors d'un comptage de notre vocabulaire. \n",
        "\n",
        "N'oubliez pas de mettre votre phrase en minuscule avant de travailler desssus. "
      ]
    },
    {
      "cell_type": "code",
      "metadata": {
        "colab": {
          "base_uri": "https://localhost:8080/"
        },
        "id": "5bcv0-88BGz8",
        "outputId": "524fa6f3-28ef-4aa7-d172-ca142b9d69f3"
      },
      "source": [
        "tokens = tokenizer.tokenize(my_string.lower())\n",
        "tokens"
      ],
      "execution_count": 20,
      "outputs": [
        {
          "output_type": "execute_result",
          "data": {
            "text/plain": [
              "['je',\n",
              " 'suis',\n",
              " 'ici',\n",
              " 'pour',\n",
              " 'étudier',\n",
              " 'le',\n",
              " 'natural',\n",
              " 'language',\n",
              " 'processing',\n",
              " 'j',\n",
              " 'adore',\n",
              " 'ça']"
            ]
          },
          "metadata": {
            "tags": []
          },
          "execution_count": 20
        }
      ]
    },
    {
      "cell_type": "markdown",
      "metadata": {
        "id": "I4FJi0hUCdc3"
      },
      "source": [
        "# Les stopwords"
      ]
    },
    {
      "cell_type": "markdown",
      "metadata": {
        "id": "3dg7lrl4EJ1f"
      },
      "source": [
        "On va supprimer ici les mots les plus fréquents et qui n'apporte pas beaucoup d'informations. Si on voit la phrase comme un signal transportant de l'information, les stopwords peuvent être vue comme du bruit. \n",
        "\n",
        "Combien de stopwords sont présent dans la langue française ?"
      ]
    },
    {
      "cell_type": "code",
      "metadata": {
        "colab": {
          "base_uri": "https://localhost:8080/"
        },
        "id": "WxMD8nC8B0Ug",
        "outputId": "6233276a-46b5-4bf2-f254-c5a4281b56d1"
      },
      "source": [
        "len(nltk.corpus.stopwords.words('french'))"
      ],
      "execution_count": 31,
      "outputs": [
        {
          "output_type": "execute_result",
          "data": {
            "text/plain": [
              "157"
            ]
          },
          "metadata": {
            "tags": []
          },
          "execution_count": 31
        }
      ]
    },
    {
      "cell_type": "markdown",
      "metadata": {
        "id": "UTV4QvxrEhxQ"
      },
      "source": [
        "La librairie *nltk* répertorie 157 stopwords pour la langue française !\n",
        "\n",
        "Vous pouvez voir les dix premiers mots ci-dessous."
      ]
    },
    {
      "cell_type": "code",
      "metadata": {
        "colab": {
          "base_uri": "https://localhost:8080/"
        },
        "id": "_PeMDDVcEiO3",
        "outputId": "f5723057-5002-4b0e-cfe8-b1f77ec60ffa"
      },
      "source": [
        "nltk.corpus.stopwords.words('french')[:10]"
      ],
      "execution_count": 32,
      "outputs": [
        {
          "output_type": "execute_result",
          "data": {
            "text/plain": [
              "['au', 'aux', 'avec', 'ce', 'ces', 'dans', 'de', 'des', 'du', 'elle']"
            ]
          },
          "metadata": {
            "tags": []
          },
          "execution_count": 32
        }
      ]
    },
    {
      "cell_type": "markdown",
      "metadata": {
        "id": "9xhqlJ5LEydQ"
      },
      "source": [
        "On peut donc retirer les stopwords de notre phrase de base. "
      ]
    },
    {
      "cell_type": "code",
      "metadata": {
        "colab": {
          "base_uri": "https://localhost:8080/"
        },
        "id": "Lo5nY9WBDko4",
        "outputId": "c61554b6-80fc-4b73-de1f-8f024a5ffbd5"
      },
      "source": [
        "[w for w in tokens if not w in list(nltk.corpus.stopwords.words('french'))]"
      ],
      "execution_count": 33,
      "outputs": [
        {
          "output_type": "execute_result",
          "data": {
            "text/plain": [
              "['ici', 'étudier', 'natural', 'language', 'processing', 'adore', 'ça']"
            ]
          },
          "metadata": {
            "tags": []
          },
          "execution_count": 33
        }
      ]
    },
    {
      "cell_type": "markdown",
      "metadata": {
        "id": "YsqSiU2RFfzf"
      },
      "source": [
        "Notre phrase contient seulement les mots qui ont de la valeur, il est maintenant possible de l'étudier. "
      ]
    },
    {
      "cell_type": "markdown",
      "metadata": {
        "id": "Y7eWa8hyFt2r"
      },
      "source": [
        "# Un problème de doublon "
      ]
    },
    {
      "cell_type": "code",
      "metadata": {
        "colab": {
          "base_uri": "https://localhost:8080/"
        },
        "id": "nv18_uP1F9gG",
        "outputId": "58b30af2-7d48-4f9a-d9d9-451eb64f3dba"
      },
      "source": [
        "my_string = \"Julien est plus grand que toi, mais tu es plus grande que Sophie. \\\n",
        "            Julien et Sophie sont plus grands que Marie\"\n",
        "tokenizer = nltk.RegexpTokenizer(r'\\w+')\n",
        "tokens = tokenizer.tokenize(my_string.lower())\n",
        "tokens = [w for w in tokens if not w in list(nltk.corpus.stopwords.words('french'))]\n",
        "\n",
        "tokens"
      ],
      "execution_count": 46,
      "outputs": [
        {
          "output_type": "execute_result",
          "data": {
            "text/plain": [
              "['julien',\n",
              " 'plus',\n",
              " 'grand',\n",
              " 'plus',\n",
              " 'grande',\n",
              " 'sophie',\n",
              " 'julien',\n",
              " 'sophie',\n",
              " 'plus',\n",
              " 'grands',\n",
              " 'marie']"
            ]
          },
          "metadata": {
            "tags": []
          },
          "execution_count": 46
        }
      ]
    },
    {
      "cell_type": "markdown",
      "metadata": {
        "id": "bL0oHk82HWIv"
      },
      "source": [
        "On peut voir que dans la phrase il y a plusieurs le même mot \"grand\" mais accordé de différentes façon. "
      ]
    },
    {
      "cell_type": "code",
      "metadata": {
        "colab": {
          "base_uri": "https://localhost:8080/"
        },
        "id": "92UryKQOHQCZ",
        "outputId": "f2607b9d-eee7-4eee-d935-de548fe1cb65"
      },
      "source": [
        "nltk.FreqDist(tokens)"
      ],
      "execution_count": 50,
      "outputs": [
        {
          "output_type": "execute_result",
          "data": {
            "text/plain": [
              "FreqDist({'grand': 1,\n",
              "          'grande': 1,\n",
              "          'grands': 1,\n",
              "          'julien': 2,\n",
              "          'marie': 1,\n",
              "          'plus': 3,\n",
              "          'sophie': 2})"
            ]
          },
          "metadata": {
            "tags": []
          },
          "execution_count": 50
        }
      ]
    },
    {
      "cell_type": "markdown",
      "metadata": {
        "id": "eaXrymlMHmC2"
      },
      "source": [
        "Si l'on travail le texte, on va donc considérer que \"grand\", \"grande\" et \"grands\" sont trois mots différents."
      ]
    },
    {
      "cell_type": "markdown",
      "metadata": {
        "id": "0htJPcieIDhv"
      },
      "source": [
        "# Le stemming"
      ]
    },
    {
      "cell_type": "markdown",
      "metadata": {
        "id": "yA7RZ43-JxDf"
      },
      "source": [
        "Le stemming garde une racinisation des mots. Cette technique permet de regrouper des verbes conjugués et des adjectifs accordés sous la même orthographe. "
      ]
    },
    {
      "cell_type": "code",
      "metadata": {
        "id": "2Voph9oTHctB"
      },
      "source": [
        "from nltk.stem.snowball import FrenchStemmer\n",
        "\n",
        "stemmer = FrenchStemmer()"
      ],
      "execution_count": 60,
      "outputs": []
    },
    {
      "cell_type": "markdown",
      "metadata": {
        "id": "M12BE934KXoQ"
      },
      "source": [
        "N'oubliez pas d'utiliser une stemming adéquat au language utilisé. "
      ]
    },
    {
      "cell_type": "code",
      "metadata": {
        "colab": {
          "base_uri": "https://localhost:8080/"
        },
        "id": "Njy0fNx7IFpF",
        "outputId": "38e964b1-074e-44cf-cc9d-6d8d791d4875"
      },
      "source": [
        "tokens_stem = [stemmer.stem(w) for w in tokens]\n",
        "tokens_stem"
      ],
      "execution_count": 71,
      "outputs": [
        {
          "output_type": "execute_result",
          "data": {
            "text/plain": [
              "['let', 'dog']"
            ]
          },
          "metadata": {
            "tags": []
          },
          "execution_count": 71
        }
      ]
    },
    {
      "cell_type": "code",
      "metadata": {
        "colab": {
          "base_uri": "https://localhost:8080/"
        },
        "id": "_3mwgHwcIZFV",
        "outputId": "370a2dc1-fee7-441c-b18a-9f479f5b2d56"
      },
      "source": [
        "nltk.FreqDist(tokens_stem)"
      ],
      "execution_count": 57,
      "outputs": [
        {
          "output_type": "execute_result",
          "data": {
            "text/plain": [
              "FreqDist({'grand': 3, 'julien': 2, 'mar': 1, 'plus': 3, 'soph': 2})"
            ]
          },
          "metadata": {
            "tags": []
          },
          "execution_count": 57
        }
      ]
    },
    {
      "cell_type": "markdown",
      "metadata": {
        "id": "esxD53DfKcvo"
      },
      "source": [
        "On peut voir que cette fois, \"grand\", \"grande\" et \"grands\" se retrouve sous la même forme \"grand\"."
      ]
    },
    {
      "cell_type": "markdown",
      "metadata": {
        "id": "E7ayq_ZUKkWt"
      },
      "source": [
        "# Lemmatization"
      ]
    },
    {
      "cell_type": "markdown",
      "metadata": {
        "id": "e-Jv_f18KrKP"
      },
      "source": [
        "Le processus de lemmatisation consiste à représenter les mots sous leur forme canonique. Par exemple pour un verbe, ce sera son infinitif. Pour un nom, son masculin singulier. \n",
        "\n",
        "La fonction de lemmatization n'existe pas dans *nltk* pour le français l'exemple qui suit sera donc en anglais."
      ]
    },
    {
      "cell_type": "code",
      "metadata": {
        "id": "Q28YNvUpLZUq"
      },
      "source": [
        "from nltk.stem import WordNetLemmatizer\n",
        "Word_Lemmatizer = WordNetLemmatizer()"
      ],
      "execution_count": 68,
      "outputs": []
    },
    {
      "cell_type": "code",
      "metadata": {
        "colab": {
          "base_uri": "https://localhost:8080/"
        },
        "id": "eol6SD1kLAND",
        "outputId": "d50960d5-939f-4d89-83c0-f336ff366172"
      },
      "source": [
        "my_string = \"Who let's the dogs out.\"\n",
        "tokenizer = nltk.RegexpTokenizer(r'\\w+')\n",
        "tokens = tokenizer.tokenize(my_string.lower())\n",
        "tokens = [w for w in tokens if not w in list(nltk.corpus.stopwords.words())]\n",
        "print(tokens)\n",
        "tokens_lema = [Word_Lemmatizer.lemmatize(w) for w in tokens]\n",
        "print(tokens_lema)"
      ],
      "execution_count": 75,
      "outputs": [
        {
          "output_type": "stream",
          "text": [
            "['let', 'dogs']\n",
            "['let', 'dog']\n"
          ],
          "name": "stdout"
        }
      ]
    },
    {
      "cell_type": "markdown",
      "metadata": {
        "id": "XwUC2I0HNHbd"
      },
      "source": [
        "# Part of speach tagging"
      ]
    },
    {
      "cell_type": "markdown",
      "metadata": {
        "id": "4wQxCf_wN3TL"
      },
      "source": [
        "On peut avoir des précisions sur l'usage du mot dans la phrase."
      ]
    },
    {
      "cell_type": "code",
      "metadata": {
        "colab": {
          "base_uri": "https://localhost:8080/"
        },
        "id": "9HD0ygijL-u0",
        "outputId": "8f3694b2-7be3-4bec-e5cf-5710e915caba"
      },
      "source": [
        "my_string = \"I like hot tea\"\n",
        "tokenizer = nltk.RegexpTokenizer(r'\\w+')\n",
        "tokens = tokenizer.tokenize(my_string.lower())\n",
        "nltk.pos_tag(tokens)"
      ],
      "execution_count": 84,
      "outputs": [
        {
          "output_type": "execute_result",
          "data": {
            "text/plain": [
              "[('i', 'NNS'), ('like', 'VBP'), ('hot', 'JJ'), ('tea', 'NN')]"
            ]
          },
          "metadata": {
            "tags": []
          },
          "execution_count": 84
        }
      ]
    }
  ]
}